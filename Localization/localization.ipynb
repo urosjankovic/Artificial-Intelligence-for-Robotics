{
 "cells": [
  {
   "cell_type": "code",
   "execution_count": 1,
   "id": "9d019b58-5694-43a3-bdca-512fa7f4f020",
   "metadata": {},
   "outputs": [
    {
     "name": "stdout",
     "output_type": "stream",
     "text": [
      "[0.2, 0.2, 0.2, 0.2, 0.2]\n"
     ]
    }
   ],
   "source": [
    "# Modify the empty list, p, so that it becomes a UNIFORM probability\n",
    "# distribution over five grid cells, as expressed in a list of \n",
    "# five probabilities.\n",
    "\n",
    "p = [0.2, 0.2, 0.2, 0.2, 0.2]\n",
    "\n",
    "print(p)"
   ]
  },
  {
   "cell_type": "code",
   "execution_count": 2,
   "id": "e0fcde77-239b-4f93-8433-f4ad4b4f0601",
   "metadata": {},
   "outputs": [
    {
     "name": "stdout",
     "output_type": "stream",
     "text": [
      "[0.2, 0.2, 0.2, 0.2, 0.2]\n"
     ]
    }
   ],
   "source": [
    "#  Modify your code to create probability vectors, p, of arbitrary \n",
    "#  size, n. Use n=5 to verify that your new solution matches \n",
    "#  the previous one.\n",
    "\n",
    "p=[]\n",
    "n=5\n",
    "\n",
    "for _ in range(n):\n",
    "    p.append(1./n)\n",
    "\n",
    "print(p)"
   ]
  },
  {
   "cell_type": "code",
   "execution_count": 3,
   "id": "de7af0ed-ee89-4994-a52e-76774649e893",
   "metadata": {},
   "outputs": [
    {
     "name": "stdout",
     "output_type": "stream",
     "text": [
      "[0.04000000000000001, 0.12, 0.12, 0.04000000000000001, 0.04000000000000001]\n"
     ]
    }
   ],
   "source": [
    "#Write code that outputs p after multiplying each entry \n",
    "#by pHit or pMiss at the appropriate places. Remember that\n",
    "#the red cells 1 and 2 are hits and the other green cells\n",
    "#are misses.\n",
    "\n",
    "\n",
    "p=[0.2,0.2,0.2,0.2,0.2]\n",
    "pHit = 0.6\n",
    "pMiss = 0.2\n",
    "\n",
    "#Enter code here\n",
    "p[0]*=pMiss\n",
    "p[1]*=pHit\n",
    "p[2]*=pHit\n",
    "p[3]*=pMiss\n",
    "p[4]*=pMiss\n",
    "\n",
    "print(p)"
   ]
  },
  {
   "cell_type": "code",
   "execution_count": 4,
   "id": "fccdaec5-2886-46bd-90ed-c6bb6a00779d",
   "metadata": {},
   "outputs": [
    {
     "name": "stdout",
     "output_type": "stream",
     "text": [
      "0.3600000000000001\n"
     ]
    }
   ],
   "source": [
    "#Modify the program to find and print the sum of all \n",
    "#the entries in the list p.\n",
    "\n",
    "p=[0.2, 0.2, 0.2, 0.2, 0.2]\n",
    "pHit = 0.6\n",
    "pMiss = 0.2\n",
    "\n",
    "p[0]=p[0]*pMiss\n",
    "p[1]=p[1]*pHit\n",
    "p[2]=p[2]*pHit\n",
    "p[3]=p[3]*pMiss\n",
    "p[4]=p[4]*pMiss\n",
    "\n",
    "# Enter your code below\n",
    "print (sum(p))"
   ]
  },
  {
   "cell_type": "code",
   "execution_count": 6,
   "id": "a8ada775-30c7-4bb6-a6dc-d8d150c7a503",
   "metadata": {},
   "outputs": [
    {
     "name": "stdout",
     "output_type": "stream",
     "text": [
      "[0.04000000000000001, 0.12, 0.12, 0.04000000000000001, 0.04000000000000001]\n"
     ]
    }
   ],
   "source": [
    "#Modify the code below so that the function sense, which \n",
    "#takes p and Z as inputs, will output the NON-normalized \n",
    "#probability distribution, q, after multiplying the entries \n",
    "#in p by pHit or pMiss according to the color in the \n",
    "#corresponding cell in world.\n",
    "\n",
    "\n",
    "p=[0.2, 0.2, 0.2, 0.2, 0.2]\n",
    "world=['green', 'red', 'red', 'green', 'green']\n",
    "Z = 'red'\n",
    "pHit = 0.6\n",
    "pMiss = 0.2\n",
    "\n",
    "def sense(p, Z):\n",
    "    q = []\n",
    "    for i in range(len(p)):\n",
    "        \n",
    "        hit = (world[i] == Z)\n",
    "        q.append(p[i]*(hit * pHit + (1-hit) * pMiss))\n",
    "        \n",
    "    return q\n",
    "\n",
    "print(sense(p,Z))"
   ]
  },
  {
   "cell_type": "code",
   "execution_count": 7,
   "id": "bda07789-9c5a-4d81-a673-db20412e3722",
   "metadata": {},
   "outputs": [
    {
     "name": "stdout",
     "output_type": "stream",
     "text": [
      "[0.1111111111111111, 0.3333333333333332, 0.3333333333333332, 0.1111111111111111, 0.1111111111111111]\n"
     ]
    }
   ],
   "source": [
    "#Modify your code so that it normalizes the output for \n",
    "#the function sense. This means that the entries in q \n",
    "#should sum to one.\n",
    "\n",
    "\n",
    "p=[0.2, 0.2, 0.2, 0.2, 0.2]\n",
    "world=['green', 'red', 'red', 'green', 'green']\n",
    "Z = 'red'\n",
    "pHit = 0.6\n",
    "pMiss = 0.2\n",
    "\n",
    "def sense(p, Z):\n",
    "    q=[]\n",
    "    for i in range(len(p)):\n",
    "        hit = (Z == world[i])\n",
    "        q.append(p[i] * (hit * pHit + (1-hit) * pMiss))\n",
    "\n",
    "    s = 0\n",
    "    for i in range(len(p)):\n",
    "        s += q[i]\n",
    "    for i in range(len(p)):\n",
    "        q[i] = q [i]/s\n",
    "\n",
    "    return q\n",
    "\n",
    "print(sense(p,Z))"
   ]
  },
  {
   "cell_type": "code",
   "execution_count": 8,
   "id": "9234c5aa-9080-44c0-a5bf-bad639a79758",
   "metadata": {},
   "outputs": [
    {
     "name": "stdout",
     "output_type": "stream",
     "text": [
      "[0.2727272727272727, 0.09090909090909093, 0.09090909090909093, 0.2727272727272727, 0.2727272727272727]\n"
     ]
    }
   ],
   "source": [
    "#Try using your code with a measurement of 'green' and \n",
    "#make sure the resulting probability distribution is correct.\n",
    "\n",
    "p=[0.2, 0.2, 0.2, 0.2, 0.2]\n",
    "world=['green', 'red', 'red', 'green', 'green']\n",
    "Z = 'green'\n",
    "pHit = 0.6\n",
    "pMiss = 0.2\n",
    "\n",
    "def sense(p, Z):\n",
    "    q=[]\n",
    "    for i in range(len(p)):\n",
    "        \n",
    "        hit = (Z == world[i])\n",
    "        q.append(p[i] * (hit * pHit + (1-hit) * pMiss))\n",
    "    s = sum(q)\n",
    "    for i in range(len(p)):\n",
    "        q[i] = q[i]/s\n",
    "    return q\n",
    "print(sense(p, Z))"
   ]
  },
  {
   "cell_type": "code",
   "execution_count": 9,
   "id": "1e951add-a946-4574-96ba-d2e0553770f1",
   "metadata": {},
   "outputs": [
    {
     "name": "stdout",
     "output_type": "stream",
     "text": [
      "[0.20000000000000004, 0.19999999999999996, 0.19999999999999996, 0.20000000000000004, 0.20000000000000004]\n"
     ]
    }
   ],
   "source": [
    "#Modify the code so that it updates the probability twice\n",
    "#and gives the posterior distribution after both \n",
    "#measurements are incorporated. Make sure that your code \n",
    "#allows for any sequence of measurement of any length.\n",
    "\n",
    "p=[0.2, 0.2, 0.2, 0.2, 0.2]\n",
    "world=['green', 'red', 'red', 'green', 'green']\n",
    "measurements = ['red', 'green']\n",
    "pHit = 0.6\n",
    "pMiss = 0.2\n",
    "\n",
    "def sense(p, Z):\n",
    "    q=[]\n",
    "    for i in range(len(p)):\n",
    "        \n",
    "        hit = (Z == world[i])\n",
    "        q.append(p[i] * (hit * pHit + (1-hit) * pMiss))\n",
    "        \n",
    "    s = sum(q)\n",
    "    for i in range(len(q)):\n",
    "        q[i] = q[i] / s\n",
    "    return q\n",
    "\n",
    "for k in range(len(measurements)):\n",
    "     p = sense(p, measurements[k])\n",
    "\n",
    "print(p)"
   ]
  },
  {
   "cell_type": "code",
   "execution_count": 11,
   "id": "ffef6320-dc18-419e-a5ea-631aa784192b",
   "metadata": {},
   "outputs": [
    {
     "name": "stdout",
     "output_type": "stream",
     "text": [
      "[0, 0, 1, 0, 0]\n"
     ]
    }
   ],
   "source": [
    "#Program a function that returns a new distribution \n",
    "#q, shifted to the right by U units. If U=0, q should \n",
    "#be the same as p.\n",
    "\n",
    "p=[0, 1, 0, 0, 0]\n",
    "world=['green', 'red', 'red', 'green', 'green']\n",
    "measurements = ['red', 'green']\n",
    "pHit = 0.6\n",
    "pMiss = 0.2\n",
    "\n",
    "def sense(p, Z):\n",
    "    q=[]\n",
    "    for i in range(len(p)):\n",
    "        hit = (Z == world[i])\n",
    "        q.append(p[i] * (hit * pHit + (1-hit) * pMiss))\n",
    "    s = sum(q)\n",
    "    for i in range(len(q)):\n",
    "        q[i] = q[i] / s\n",
    "    return q\n",
    "\n",
    "def move(p, U):\n",
    "    #\n",
    "    #ADD CODE HERE\n",
    "    q=[]\n",
    "    for i in range(len(p)):\n",
    "        q.append(p[i-U] % len(p))\n",
    "    #\n",
    "    return q\n",
    "\n",
    "print(move(p, 1))"
   ]
  },
  {
   "cell_type": "code",
   "execution_count": 13,
   "id": "90daeddb-d898-48f1-8e38-c141f8b78a3c",
   "metadata": {},
   "outputs": [
    {
     "name": "stdout",
     "output_type": "stream",
     "text": [
      "[0.0, 0.1, 0.8, 0.1, 0.0]\n"
     ]
    }
   ],
   "source": [
    "#Modify the move function to accommodate the added \n",
    "#probabilities of overshooting or undershooting \n",
    "#the intended destination.\n",
    "\n",
    "p=[0, 1, 0, 0, 0]\n",
    "world=['green', 'red', 'red', 'green', 'green']\n",
    "measurements = ['red', 'green']\n",
    "pHit = 0.6\n",
    "pMiss = 0.2\n",
    "pExact = 0.8\n",
    "pOvershoot = 0.1\n",
    "pUndershoot = 0.1\n",
    "\n",
    "def sense(p, Z):\n",
    "    q=[]\n",
    "    for i in range(len(p)):\n",
    "        hit = (Z == world[i])\n",
    "        q.append(p[i] * (hit * pHit + (1-hit) * pMiss))\n",
    "    s = sum(q)\n",
    "    for i in range(len(q)):\n",
    "        q[i] = q[i] / s\n",
    "    return q\n",
    "\n",
    "def move(p, U):\n",
    "    q = []\n",
    "    for i in range(len(p)):\n",
    "        s = pExact * p[(i-U) % len(p)]\n",
    "        s = s + pOvershoot * p[(i-U-1) % len(p)]\n",
    "        s = s + pUndershoot * p[(i-U+1) % len(p)]\n",
    "        q.append(s)\n",
    "    return q\n",
    "    \n",
    "\n",
    "print (move(p, 1))\n"
   ]
  },
  {
   "cell_type": "code",
   "execution_count": 14,
   "id": "67eaadaa-8d66-48be-ad90-a09b295af7cd",
   "metadata": {},
   "outputs": [
    {
     "name": "stdout",
     "output_type": "stream",
     "text": [
      "[0.010000000000000002, 0.010000000000000002, 0.16000000000000003, 0.6600000000000001, 0.16000000000000003]\n"
     ]
    }
   ],
   "source": [
    "# Write code that makes the robot move twice and then prints \n",
    "# out the resulting distribution, starting with the initial \n",
    "# distribution p = [0, 1, 0, 0, 0]\n",
    "\n",
    "p=[0, 1, 0, 0, 0]\n",
    "world=['green', 'red', 'red', 'green', 'green']\n",
    "measurements = ['red', 'green']\n",
    "pHit = 0.6\n",
    "pMiss = 0.2\n",
    "pExact = 0.8\n",
    "pOvershoot = 0.1\n",
    "pUndershoot = 0.1\n",
    "\n",
    "def sense(p, Z):\n",
    "    q=[]\n",
    "    for i in range(len(p)):\n",
    "        hit = (Z == world[i])\n",
    "        q.append(p[i] * (hit * pHit + (1-hit) * pMiss))\n",
    "    s = sum(q)\n",
    "    for i in range(len(q)):\n",
    "        q[i] = q[i] / s\n",
    "    return q\n",
    "\n",
    "def move(p, U):\n",
    "    q = []\n",
    "    for i in range(len(p)):\n",
    "        s = pExact * p[(i-U) % len(p)]\n",
    "        s = s + pOvershoot * p[(i-U-1) % len(p)]\n",
    "        s = s + pUndershoot * p[(i-U+1) % len(p)]\n",
    "        q.append(s)\n",
    "    return q\n",
    "#\n",
    "# ADD CODE HERE\n",
    "p = move(p, 1)\n",
    "p = move(p, 1) \n",
    "#\n",
    "# Make sure to print out p!\n",
    "print (p)"
   ]
  },
  {
   "cell_type": "code",
   "execution_count": 18,
   "id": "63ad009d-496a-4dea-b83c-304494a9277d",
   "metadata": {},
   "outputs": [
    {
     "name": "stdout",
     "output_type": "stream",
     "text": [
      "[0.20000004294005816, 0.20000013895694374, 0.20000004294005816, 0.19999988758147377, 0.19999988758147375]\n"
     ]
    }
   ],
   "source": [
    "#write code that moves 1000 times and then prints the \n",
    "#resulting probability distribution.\n",
    "\n",
    "p=[0, 1, 0, 0, 0]\n",
    "world=['green', 'red', 'red', 'green', 'green']\n",
    "measurements = ['red', 'green']\n",
    "pHit = 0.6\n",
    "pMiss = 0.2\n",
    "pExact = 0.8\n",
    "pOvershoot = 0.1\n",
    "pUndershoot = 0.1\n",
    "\n",
    "def sense(p, Z):\n",
    "    q=[]\n",
    "    for i in range(len(p)):\n",
    "        hit = (Z == world[i])\n",
    "        q.append(p[i] * (hit * pHit + (1-hit) * pMiss))\n",
    "    s = sum(q)\n",
    "    for i in range(len(q)):\n",
    "        q[i] = q[i] / s\n",
    "    return q\n",
    "\n",
    "def move(p, U):\n",
    "    q = []\n",
    "    for i in range(len(p)):\n",
    "        s = pExact * p[(i-U) % len(p)]\n",
    "        s = s + pOvershoot * p[(i-U-1) % len(p)]\n",
    "        s = s + pUndershoot * p[(i-U+1) % len(p)]\n",
    "        q.append(s)\n",
    "    return q\n",
    "#\n",
    "# ADD CODE HERE\n",
    "for _ in range(100):\n",
    "    p = move(p,1)\n",
    "#\n",
    "print(p)\n"
   ]
  },
  {
   "cell_type": "code",
   "execution_count": 19,
   "id": "448a4799-a46d-4e16-a87f-c29cba2c27ca",
   "metadata": {},
   "outputs": [
    {
     "name": "stdout",
     "output_type": "stream",
     "text": [
      "[0.21157894736842103, 0.1515789473684211, 0.08105263157894739, 0.16842105263157897, 0.3873684210526316]\n"
     ]
    }
   ],
   "source": [
    "#Given the list motions=[1,1] which means the robot \n",
    "#moves right and then right again, compute the posterior \n",
    "#distribution if the robot first senses red, then moves \n",
    "#right one, then senses green, then moves right again, \n",
    "#starting with a uniform prior distribution.\n",
    "\n",
    "p=[0.2, 0.2, 0.2, 0.2, 0.2]\n",
    "world=['green', 'red', 'red', 'green', 'green']\n",
    "measurements = ['red', 'green']\n",
    "motions = [1,1]\n",
    "pHit = 0.6\n",
    "pMiss = 0.2\n",
    "pExact = 0.8\n",
    "pOvershoot = 0.1\n",
    "pUndershoot = 0.1\n",
    "\n",
    "def sense(p, Z):\n",
    "    q=[]\n",
    "    for i in range(len(p)):\n",
    "        hit = (Z == world[i])\n",
    "        q.append(p[i] * (hit * pHit + (1-hit) * pMiss))\n",
    "    s = sum(q)\n",
    "    for i in range(len(q)):\n",
    "        q[i] = q[i] / s\n",
    "    return q\n",
    "\n",
    "def move(p, U):\n",
    "    q = []\n",
    "    for i in range(len(p)):\n",
    "        s = pExact * p[(i-U) % len(p)]\n",
    "        s = s + pOvershoot * p[(i-U-1) % len(p)]\n",
    "        s = s + pUndershoot * p[(i-U+1) % len(p)]\n",
    "        q.append(s)\n",
    "    return q\n",
    "#\n",
    "# ADD CODE HERE\n",
    "for i in range(len(measurements)):\n",
    "    p = sense(p, measurements[i])\n",
    "    p = move(p, motions[i])\n",
    "\n",
    "#\n",
    "print(p)        \n"
   ]
  },
  {
   "cell_type": "code",
   "execution_count": 20,
   "id": "98cd9a79-a377-46d4-932b-d3b959dd59ef",
   "metadata": {},
   "outputs": [
    {
     "name": "stdout",
     "output_type": "stream",
     "text": [
      "[0.07882352941176471, 0.07529411764705884, 0.22470588235294123, 0.4329411764705882, 0.18823529411764706]\n"
     ]
    }
   ],
   "source": [
    "#Modify the previous code so that the robot senses red twice.\n",
    "\n",
    "p=[0.2, 0.2, 0.2, 0.2, 0.2]\n",
    "world=['green', 'red', 'red', 'green', 'green']\n",
    "measurements = ['red', 'red']\n",
    "motions = [1,1]\n",
    "pHit = 0.6\n",
    "pMiss = 0.2\n",
    "pExact = 0.8\n",
    "pOvershoot = 0.1\n",
    "pUndershoot = 0.1\n",
    "\n",
    "def sense(p, Z):\n",
    "    q=[]\n",
    "    for i in range(len(p)):\n",
    "        hit = (Z == world[i])\n",
    "        q.append(p[i] * (hit * pHit + (1-hit) * pMiss))\n",
    "    s = sum(q)\n",
    "    for i in range(len(q)):\n",
    "        q[i] = q[i] / s\n",
    "    return q\n",
    "\n",
    "def move(p, U):\n",
    "    q = []\n",
    "    for i in range(len(p)):\n",
    "        s = pExact * p[(i-U) % len(p)]\n",
    "        s = s + pOvershoot * p[(i-U-1) % len(p)]\n",
    "        s = s + pUndershoot * p[(i-U+1) % len(p)]\n",
    "        q.append(s)\n",
    "    return q\n",
    "\n",
    "for k in range(len(measurements)):\n",
    "    p = sense(p, measurements[k])\n",
    "    p = move(p, motions[k])\n",
    "    \n",
    "print(p)      \n"
   ]
  },
  {
   "cell_type": "markdown",
   "id": "43088b85-ef3e-4f52-a16b-48f02c8edf21",
   "metadata": {},
   "source": [
    "# Homework 1"
   ]
  },
  {
   "cell_type": "code",
   "execution_count": 25,
   "id": "957ab82e-5650-4e28-8ef4-4b87698864e4",
   "metadata": {},
   "outputs": [
    {
     "name": "stdout",
     "output_type": "stream",
     "text": [
      "[[0.01106,0.02464,0.06800,0.04472,0.02465],\n",
      " [0.00715,0.01017,0.08697,0.07988,0.00935],\n",
      " [0.00740,0.00894,0.11273,0.35351,0.04066],\n",
      " [0.00911,0.00715,0.01435,0.04313,0.03643]]\n"
     ]
    }
   ],
   "source": [
    "# The function localize takes the following arguments:\n",
    "#\n",
    "# colors:\n",
    "#        2D list, each entry either 'R' (for red cell) or 'G' (for green cell)\n",
    "#\n",
    "# measurements:\n",
    "#        list of measurements taken by the robot, each entry either 'R' or 'G'\n",
    "#\n",
    "# motions:\n",
    "#        list of actions taken by the robot, each entry of the form [dy,dx],\n",
    "#        where dx refers to the change in the x-direction (positive meaning\n",
    "#        movement to the right) and dy refers to the change in the y-direction\n",
    "#        (positive meaning movement downward)\n",
    "#        NOTE: the *first* coordinate is change in y; the *second* coordinate is\n",
    "#              change in x\n",
    "#\n",
    "# sensor_right:\n",
    "#        float between 0 and 1, giving the probability that any given\n",
    "#        measurement is correct; the probability that the measurement is\n",
    "#        incorrect is 1-sensor_right\n",
    "#\n",
    "# p_move:\n",
    "#        float between 0 and 1, giving the probability that any given movement\n",
    "#        command takes place; the probability that the movement command fails\n",
    "#        (and the robot remains still) is 1-p_move; the robot will NOT overshoot\n",
    "#        its destination in this exercise\n",
    "#\n",
    "# The function should RETURN (not just show or print) a 2D list (of the same\n",
    "# dimensions as colors) that gives the probabilities that the robot occupies\n",
    "# each cell in the world.\n",
    "#\n",
    "# Compute the probabilities by assuming the robot initially has a uniform\n",
    "# probability of being in any cell.\n",
    "#\n",
    "# Also assume that at each step, the robot:\n",
    "# 1) first makes a movement,\n",
    "# 2) then takes a measurement.\n",
    "#\n",
    "# Motion:\n",
    "#  [0,0] - stay\n",
    "#  [0,1] - right\n",
    "#  [0,-1] - left\n",
    "#  [1,0] - down\n",
    "#  [-1,0] - up\n",
    "\n",
    "def sense(p, colors, sensor_right, Z):\n",
    "    q=[]\n",
    "    for i in range(len(p)):\n",
    "        row=[]\n",
    "        for j in range(len(p[0])):\n",
    "            hit = (Z == colors[i][j]) \n",
    "            row.append(p[i][j] * (hit * sensor_right + (1-hit) * (1-sensor_right)))\n",
    "        q.append(row)\n",
    "    s = sum(map(sum,q))\n",
    "    for i in range(len(q)):\n",
    "        for j in range(len(p[0])):\n",
    "            q[i][j] = q[i][j] / s\n",
    "    return q\n",
    "\n",
    "def move(p, p_move, U):\n",
    "    q = []\n",
    "    for i in range(len(p)):\n",
    "        row=[]\n",
    "        for j in range(len(p[0])):\n",
    "            s = p[(i-U[0]) % len(p)][(j-U[1]) % len(p[0])] * p_move + (1-p_move) * p[i][j]\n",
    "            row.append(s)\n",
    "        q.append(row)\n",
    "    return q\n",
    "\n",
    "def localize(colors,measurements,motions,sensor_right,p_move):\n",
    "    # initializes p to a uniform distribution over a grid of the same dimensions as colors\n",
    "    pinit = 1.0 / float(len(colors)) / float(len(colors[0]))\n",
    "    p = [[pinit for row in range(len(colors[0]))] for col in range(len(colors))]\n",
    "    \n",
    "    # >>> Insert your code here <<<\n",
    "    \n",
    "    for i in range(len(measurements)):\n",
    "        p = move(p, p_move, motions[i])\n",
    "        p = sense(p, colors, sensor_right, measurements[i])\n",
    "        \n",
    "    return p\n",
    "\n",
    "def show(p):\n",
    "    rows = ['[' + ','.join(map(lambda x: '{0:.5f}'.format(x),r)) + ']' for r in p]\n",
    "    print ('[' + ',\\n '.join(rows) + ']')\n",
    "    \n",
    "#############################################################\n",
    "# For the following test case, your output should be \n",
    "# [[0.01105, 0.02464, 0.06799, 0.04472, 0.02465],\n",
    "#  [0.00715, 0.01017, 0.08696, 0.07988, 0.00935],\n",
    "#  [0.00739, 0.00894, 0.11272, 0.35350, 0.04065],\n",
    "#  [0.00910, 0.00715, 0.01434, 0.04313, 0.03642]]\n",
    "# (within a tolerance of +/- 0.001 for each entry)\n",
    "\n",
    "colors = [['R','G','G','R','R'],\n",
    "          ['R','R','G','R','R'],\n",
    "          ['R','R','G','G','R'],\n",
    "          ['R','R','R','R','R']]\n",
    "measurements = ['G','G','G','G','G']\n",
    "motions = [[0,0],[0,1],[1,0],[1,0],[0,1]]\n",
    "p = localize(colors,measurements,motions,sensor_right = 0.7, p_move = 0.8)\n",
    "show(p) # displays your answer\n"
   ]
  },
  {
   "cell_type": "markdown",
   "id": "002837e6-5bef-46a9-ae04-3e4f7cd6bb30",
   "metadata": {},
   "source": [
    "## Test 1"
   ]
  },
  {
   "cell_type": "code",
   "execution_count": 26,
   "id": "67e33296-d741-47aa-b886-cd822edab2ee",
   "metadata": {},
   "outputs": [],
   "source": [
    "colors = [['G', 'G', 'G'],\n",
    "          ['G', 'R', 'G'],\n",
    "          ['G', 'G', 'G']]\n",
    "measurements = ['R']\n",
    "motions = [[0,0]]\n",
    "sensor_right = 1.0\n",
    "p_move = 1.0\n",
    "p = localize(colors,measurements,motions,sensor_right,p_move)\n",
    "correct_answer = (\n",
    "    [[0.0, 0.0, 0.0],\n",
    "     [0.0, 1.0, 0.0],\n",
    "     [0.0, 0.0, 0.0]])"
   ]
  },
  {
   "cell_type": "markdown",
   "id": "f4231e8c-b0fb-498f-8e26-ba15fc045f18",
   "metadata": {},
   "source": [
    "## Test 2"
   ]
  },
  {
   "cell_type": "code",
   "execution_count": 27,
   "id": "73316f7a-93d1-40f4-9f08-7f6d19554399",
   "metadata": {},
   "outputs": [],
   "source": [
    "colors = [['G', 'G', 'G'],\n",
    "          ['G', 'R', 'R'],\n",
    "          ['G', 'G', 'G']]\n",
    "measurements = ['R']\n",
    "motions = [[0,0]]\n",
    "sensor_right = 1.0\n",
    "p_move = 1.0\n",
    "p = localize(colors,measurements,motions,sensor_right,p_move)\n",
    "correct_answer = (\n",
    "    [[0.0, 0.0, 0.0],\n",
    "     [0.0, 0.5, 0.5],\n",
    "     [0.0, 0.0, 0.0]])"
   ]
  },
  {
   "cell_type": "markdown",
   "id": "26befd2f-c6b4-4eaa-9fc2-d0c04e37b03b",
   "metadata": {},
   "source": [
    "## Test 3"
   ]
  },
  {
   "cell_type": "code",
   "execution_count": 28,
   "id": "fc1cc90e-9cc0-47bd-9e15-27dd4a662c59",
   "metadata": {},
   "outputs": [],
   "source": [
    "colors = [['G', 'G', 'G'],\n",
    "          ['G', 'R', 'R'],\n",
    "          ['G', 'G', 'G']]\n",
    "measurements = ['R']\n",
    "motions = [[0,0]]\n",
    "sensor_right = 0.8\n",
    "p_move = 1.0\n",
    "p = localize(colors,measurements,motions,sensor_right,p_move)\n",
    "correct_answer = (\n",
    "    [[0.06666666666, 0.06666666666, 0.06666666666],\n",
    "     [0.06666666666, 0.26666666666, 0.26666666666],\n",
    "     [0.06666666666, 0.06666666666, 0.06666666666]])"
   ]
  },
  {
   "cell_type": "markdown",
   "id": "2e58fad8-1a86-4460-9c18-8ed29cb52553",
   "metadata": {},
   "source": [
    "## Test 4"
   ]
  },
  {
   "cell_type": "code",
   "execution_count": 29,
   "id": "25672c9a-f8d6-4059-be2b-49cf1e445ab1",
   "metadata": {},
   "outputs": [],
   "source": [
    "colors = [['G', 'G', 'G'],\n",
    "          ['G', 'R', 'R'],\n",
    "          ['G', 'G', 'G']]\n",
    "measurements = ['R', 'R']\n",
    "motions = [[0,0], [0,1]]\n",
    "sensor_right = 0.8\n",
    "p_move = 1.0\n",
    "p = localize(colors,measurements,motions,sensor_right,p_move)\n",
    "correct_answer = (\n",
    "    [[0.03333333333, 0.03333333333, 0.03333333333],\n",
    "     [0.13333333333, 0.13333333333, 0.53333333333],\n",
    "     [0.03333333333, 0.03333333333, 0.03333333333]])"
   ]
  },
  {
   "cell_type": "markdown",
   "id": "481e7f57-b9a7-458d-8b2d-16743d477840",
   "metadata": {},
   "source": [
    "## Test 5"
   ]
  },
  {
   "cell_type": "code",
   "execution_count": 30,
   "id": "7b77c1e5-4607-401e-a48d-20c49a51e19c",
   "metadata": {},
   "outputs": [],
   "source": [
    "colors = [['G', 'G', 'G'],\n",
    "          ['G', 'R', 'R'],\n",
    "          ['G', 'G', 'G']]\n",
    "measurements = ['R', 'R']\n",
    "motions = [[0,0], [0,1]]\n",
    "sensor_right = 1.0\n",
    "p_move = 1.0\n",
    "p = localize(colors,measurements,motions,sensor_right,p_move)\n",
    "correct_answer = (\n",
    "    [[0.0, 0.0, 0.0],\n",
    "     [0.0, 0.0, 1.0],\n",
    "     [0.0, 0.0, 0.0]])"
   ]
  }
 ],
 "metadata": {
  "kernelspec": {
   "display_name": "Python 3 (ipykernel)",
   "language": "python",
   "name": "python3"
  },
  "language_info": {
   "codemirror_mode": {
    "name": "ipython",
    "version": 3
   },
   "file_extension": ".py",
   "mimetype": "text/x-python",
   "name": "python",
   "nbconvert_exporter": "python",
   "pygments_lexer": "ipython3",
   "version": "3.8.2"
  }
 },
 "nbformat": 4,
 "nbformat_minor": 5
}
