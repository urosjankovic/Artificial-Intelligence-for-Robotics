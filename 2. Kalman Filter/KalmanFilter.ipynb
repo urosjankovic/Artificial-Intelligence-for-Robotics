{
 "cells": [
  {
   "cell_type": "code",
   "execution_count": 2,
   "id": "69713dc7-b338-406f-844d-6fbd2e617b44",
   "metadata": {},
   "outputs": [
    {
     "name": "stdout",
     "output_type": "stream",
     "text": [
      "0.19947114020071635\n"
     ]
    }
   ],
   "source": [
    "#For this problem, you aren't writing any code.\n",
    "#Instead, please just change the last argument \n",
    "#in f() to maximize the output.\n",
    "\n",
    "from math import *\n",
    "\n",
    "def f(mu, sigma2, x):\n",
    "    return 1/sqrt(2.*pi*sigma2) * exp(-.5*(x-mu)**2 / sigma2)\n",
    "\n",
    "print (f(10.,4.,10.)) #Change the 8. to something else!\n"
   ]
  },
  {
   "cell_type": "code",
   "execution_count": 4,
   "id": "2ec98697-c36f-4e99-8f31-001565d10aeb",
   "metadata": {},
   "outputs": [
    {
     "name": "stdout",
     "output_type": "stream",
     "text": [
      "[12.4, 1.6]\n"
     ]
    }
   ],
   "source": [
    "# Write a program to update your mean and variance\n",
    "# when given the mean and variance of your belief\n",
    "# and the mean and variance of your measurement.\n",
    "# This program will update the parameters of your\n",
    "# belief function.\n",
    "\n",
    "def update(mean1, var1, mean2, var2):\n",
    "    new_mean = 1/(var1+var2)*(var2*mean1 + var1*mean2)\n",
    "    new_var = 1/(1/var1+1/var2)\n",
    "    return [new_mean, new_var]\n",
    "\n",
    "print (update(10.,8.,13., 2.))"
   ]
  },
  {
   "cell_type": "code",
   "execution_count": 5,
   "id": "af7da85c-acdf-4c15-82c4-c2af7feb781c",
   "metadata": {},
   "outputs": [
    {
     "name": "stdout",
     "output_type": "stream",
     "text": [
      "[22.0, 8.0]\n"
     ]
    }
   ],
   "source": [
    "# Write a program that will predict your new mean\n",
    "# and variance given the mean and variance of your \n",
    "# prior belief and the mean and variance of your \n",
    "# motion. \n",
    "\n",
    "def update(mean1, var1, mean2, var2):\n",
    "    new_mean = (var2 * mean1 + var1 * mean2) / (var1 + var2)\n",
    "    new_var = 1/(1/var1 + 1/var2)\n",
    "    return [new_mean, new_var]\n",
    "\n",
    "def predict(mean1, var1, mean2, var2):\n",
    "    new_mean = mean1 + mean2        \n",
    "    new_var = var1 + var2\n",
    "    return [new_mean, new_var]\n",
    "\n",
    "print (predict(10., 4., 12., 4.))"
   ]
  },
  {
   "cell_type": "code",
   "execution_count": 7,
   "id": "d48b3fca-bcdc-4213-b2ff-daf23e884c59",
   "metadata": {},
   "outputs": [
    {
     "name": "stdout",
     "output_type": "stream",
     "text": [
      "[10.999906177177365, 4.005861580844194]\n"
     ]
    }
   ],
   "source": [
    "# Write a program that will iteratively update and\n",
    "# predict based on the location measurements \n",
    "# and inferred motions shown below. \n",
    "\n",
    "def update(mean1, var1, mean2, var2):\n",
    "    new_mean = float(var2 * mean1 + var1 * mean2) / (var1 + var2)\n",
    "    new_var = 1./(1./var1 + 1./var2)\n",
    "    return [new_mean, new_var]\n",
    "\n",
    "def predict(mean1, var1, mean2, var2):\n",
    "    new_mean = mean1 + mean2\n",
    "    new_var = var1 + var2\n",
    "    return [new_mean, new_var]\n",
    "\n",
    "measurements = [5., 6., 7., 9., 10.]\n",
    "motion = [1., 1., 2., 1., 1.]\n",
    "measurement_sig = 4.\n",
    "motion_sig = 2.\n",
    "mu = 0.\n",
    "sig = 10000.\n",
    "\n",
    "#Please print out ONLY the final values of the mean\n",
    "#and the variance in a list [mu, sig]. \n",
    "\n",
    "# Insert code here\n",
    "for k in range(len(measurements)):\n",
    "    [mu, sig] = update(mu, sig, measurements[k], measurement_sig)\n",
    "    #print(\"update\", [mu, sig])\n",
    "    [mu, sig] = predict(mu, sig, motion[k], motion_sig)\n",
    "    #print(\"prediction\", [mu, sig])\n",
    "\n",
    "\n",
    "print ([mu, sig])\n"
   ]
  },
  {
   "cell_type": "code",
   "execution_count": null,
   "id": "6563c4e6-62c4-4d63-989a-d0ddb65230b4",
   "metadata": {},
   "outputs": [],
   "source": []
  }
 ],
 "metadata": {
  "kernelspec": {
   "display_name": "Python 3 (ipykernel)",
   "language": "python",
   "name": "python3"
  },
  "language_info": {
   "codemirror_mode": {
    "name": "ipython",
    "version": 3
   },
   "file_extension": ".py",
   "mimetype": "text/x-python",
   "name": "python",
   "nbconvert_exporter": "python",
   "pygments_lexer": "ipython3",
   "version": "3.8.2"
  }
 },
 "nbformat": 4,
 "nbformat_minor": 5
}
